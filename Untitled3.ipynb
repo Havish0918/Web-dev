{
  "nbformat": 4,
  "nbformat_minor": 0,
  "metadata": {
    "colab": {
      "provenance": [],
      "authorship_tag": "ABX9TyMuflocRh2rYfflnbdCXI2C",
      "include_colab_link": true
    },
    "kernelspec": {
      "name": "python3",
      "display_name": "Python 3"
    },
    "language_info": {
      "name": "python"
    }
  },
  "cells": [
    {
      "cell_type": "markdown",
      "metadata": {
        "id": "view-in-github",
        "colab_type": "text"
      },
      "source": [
        "<a href=\"https://colab.research.google.com/github/Havish0918/Web-dev/blob/main/Untitled3.ipynb\" target=\"_parent\"><img src=\"https://colab.research.google.com/assets/colab-badge.svg\" alt=\"Open In Colab\"/></a>"
      ]
    },
    {
      "cell_type": "code",
      "source": [
        "def quadratic_solution(a, b, time, c):\n",
        "    discriminant = b**2 - 4*a*(c - time)\n",
        "    sol1 = (-b - discriminant**0.5) / (2*a)\n",
        "    sol2 = (-b + discriminant**0.5) / (2*a)\n",
        "    return sol1, sol2\n",
        "\n",
        "def weather_model(mode):\n",
        "    if mode == \"hardcoded\":\n",
        "        a, b, c = 0.5, -2.0, 20.0\n",
        "        for time in range(1, 4):\n",
        "            temp = quadratic_solution(a, b, time, c)[1]\n",
        "            print(f\"Temperature at time {time}: {temp:.2f} degrees\")\n",
        "    elif mode == \"input\":\n",
        "        a = float(input(\"Enter coefficient a: \"))\n",
        "        b = float(input(\"Enter coefficient b: \"))\n",
        "        c = float(input(\"Enter initial temperature: \"))\n",
        "        for time in range(1, 4):\n",
        "            temp = quadratic_solution(a, b, time, c)[1]\n",
        "            print(f\"Temperature at time {time}: {temp:.2f} degrees\")\n",
        "    elif mode == \"file\":\n",
        "        try:\n",
        "            with open('spam.txt', 'r') as file:\n",
        "                for set_num, line in enumerate(file):\n",
        "                    try:\n",
        "                        a, b, c = [float(value) for value in line.strip().split() if value]\n",
        "                        print(f\"Weather simulation for set {set_num + 1}:\")\n",
        "                        for time in range(1, 4):\n",
        "                            temp = quadratic_solution(a, b, time, c)[1]\n",
        "                            print(f\"  Temperature at time {time}: {temp:.2f} degrees\")\n",
        "                    except ValueError:\n",
        "                        print(f\"Warning: Invalid data on line {set_num + 1}. Skipping.\")\n",
        "        except FileNotFoundError:\n",
        "            print(\"Error: spam.txt not found.\")\n",
        "\n",
        "# Choose the mode of operation\n",
        "mode = input(\"Enter mode ('hardcoded', 'input', or 'file'): \").lower()\n",
        "weather_model(mode)"
      ],
      "metadata": {
        "colab": {
          "base_uri": "https://localhost:8080/"
        },
        "id": "Acl8-1uZEQCJ",
        "outputId": "b56d79cf-bd23-4078-c61a-d8637374f1e8"
      },
      "execution_count": 1,
      "outputs": [
        {
          "output_type": "stream",
          "name": "stdout",
          "text": [
            "Enter mode ('hardcoded', 'input', or 'file'): Hardcoded\n",
            "Temperature at time 1: 2.00+5.83j degrees\n",
            "Temperature at time 2: 2.00+5.66j degrees\n",
            "Temperature at time 3: 2.00+5.48j degrees\n"
          ]
        }
      ]
    },
    {
      "cell_type": "code",
      "source": [
        "#waterfall model\n",
        "def calculate_weather_model(T, H, W):\n",
        "    weather_value = 0.5 * T**2 - 0.2 * H + 0.1 * W - 15\n",
        "    return weather_value\n",
        "\n",
        "def categorize_weather(weather_value):\n",
        "    if weather_value >= 20:\n",
        "        return \"Sunny\"\n",
        "    elif 10 <= weather_value < 20:\n",
        "        return \"Cloudy\"\n",
        "    elif 0 <= weather_value < 10:\n",
        "        return \"Rainy\"\n",
        "    else:\n",
        "        return \"Stormy\"\n",
        "\n",
        "def hardcoded_weather_model():\n",
        "    T, H, W = 30, 50, 10\n",
        "    weather_value = calculate_weather_model(T, H, W)\n",
        "    category = categorize_weather(weather_value)\n",
        "    print(f\"Hardcoded: W = {weather_value:.2f}, Category = {category}\")\n",
        "\n",
        "def keyboard_weather_model():\n",
        "    T = float(input(\"Enter Temperature (T): \"))\n",
        "    H = float(input(\"Enter Humidity (H): \"))\n",
        "    W = float(input(\"Enter Wind Speed (W): \"))\n",
        "    weather_value = calculate_weather_model(T, H, W)\n",
        "    category = categorize_weather(weather_value)\n",
        "    print(f\"Keyboard Input: W = {weather_value:.2f}, Category = {category}\")\n",
        "\n",
        "def file_weather_model():\n",
        "    try:\n",
        "        with open(\"spam.txt\", \"r\") as file:\n",
        "            lines = file.readlines()\n",
        "        for idx, line in enumerate(lines):\n",
        "            T, H, W = map(float, line.strip().split())\n",
        "            weather_value = calculate_weather_model(T, H, W)\n",
        "            category = categorize_weather(weather_value)\n",
        "            print(f\"File Input (Set {idx + 1}): W = {weather_value:.2f}, Category = {category}\")\n",
        "    except FileNotFoundError:\n",
        "        print(\"Error: File 'spam.txt' not found.\")\n",
        "    except ValueError:\n",
        "        print(\"Error: Invalid data format in 'spam.txt'.\")\n",
        "\n",
        "def loop_weather_model():\n",
        "    num_sets = int(input(\"Enter number of input sets: \"))\n",
        "    for i in range(num_sets):\n",
        "        print(f\"\\nSet {i + 1}:\")\n",
        "        T = float(input(\"Enter Temperature (T): \"))\n",
        "        H = float(input(\"Enter Humidity (H): \"))\n",
        "        W = float(input(\"Enter Wind Speed (W): \"))\n",
        "        weather_value = calculate_weather_model(T, H, W)\n",
        "        category = categorize_weather(weather_value)\n",
        "        print(f\"Set {i + 1}: W = {weather_value:.2f}, Category = {category}\")\n",
        "\n",
        "def main():\n",
        "    print(\"Weather Prediction Quadratic Model\")\n",
        "    print(\"1. Hardcoded Values\")\n",
        "    print(\"2. Keyboard Input\")\n",
        "    print(\"3. File Input ('spam.txt')\")\n",
        "    print(\"4. Loop for Multiple Keyboard Inputs\")\n",
        "    choice = int(input(\"Choose an option (1-4): \"))\n",
        "\n",
        "    if choice == 1:\n",
        "        hardcoded_weather_model()\n",
        "    elif choice == 2:\n",
        "        keyboard_weather_model()\n",
        "    elif choice == 3:\n",
        "        file_weather_model()\n",
        "    elif choice == 4:\n",
        "        loop_weather_model()\n",
        "    else:\n",
        "        print(\"Invalid choice. Exiting.\")\n",
        "\n",
        "if __name__ == \"__main__\":\n",
        "    main()"
      ],
      "metadata": {
        "colab": {
          "base_uri": "https://localhost:8080/"
        },
        "id": "NXZnpXYkHLKn",
        "outputId": "b5e23653-d9fa-439a-b6b7-24a4a585d8f9"
      },
      "execution_count": null,
      "outputs": [
        {
          "output_type": "stream",
          "name": "stdout",
          "text": [
            "Weather Prediction Quadratic Model\n",
            "1. Hardcoded Values\n",
            "2. Keyboard Input\n",
            "3. File Input ('spam.txt')\n",
            "4. Loop for Multiple Keyboard Inputs\n",
            "Choose an option (1-4): 4\n",
            "Enter number of input sets: 5\n",
            "\n",
            "Set 1:\n"
          ]
        }
      ]
    }
  ]
}