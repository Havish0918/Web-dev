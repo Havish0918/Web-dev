{
  "nbformat": 4,
  "nbformat_minor": 0,
  "metadata": {
    "colab": {
      "provenance": [],
      "authorship_tag": "ABX9TyNLNv0Sxfx6PSkY1lFD7u6W",
      "include_colab_link": true
    },
    "kernelspec": {
      "name": "python3",
      "display_name": "Python 3"
    },
    "language_info": {
      "name": "python"
    }
  },
  "cells": [
    {
      "cell_type": "markdown",
      "metadata": {
        "id": "view-in-github",
        "colab_type": "text"
      },
      "source": [
        "<a href=\"https://colab.research.google.com/github/Havish0918/Web-dev/blob/main/Untitled2.ipynb\" target=\"_parent\"><img src=\"https://colab.research.google.com/assets/colab-badge.svg\" alt=\"Open In Colab\"/></a>"
      ]
    },
    {
      "cell_type": "code",
      "source": [
        "\n",
        "\n",
        "def calculate_weather(t, h, w):\n",
        "    \"\"\"\n",
        "    Calculate weather using the equation:\n",
        "    W = 0.5t^2 - 0.2h + 0.1w - 15\n",
        "\n",
        "    Parameters:\n",
        "    t (float): Temperature in °C\n",
        "    h (float): Humidity in percentage\n",
        "    w (float): Wind speed in m/s\n",
        "\n",
        "    Returns:\n",
        "    float: Calculated weather value (W)\n",
        "    \"\"\"\n",
        "    W = 0.5 * t**2 - 0.2 * h + 0.1 * w - 15\n",
        "    return W\n",
        "\n",
        "def predict_weather_condition(W):\n",
        "    \"\"\"\n",
        "    Predict weather condition based on W value.\n",
        "\n",
        "    Parameters:\n",
        "    W (float): Weather value\n",
        "\n",
        "    Returns:\n",
        "    str: Weather condition (Sunny, Cloudy, Rainy, or Stormy)\n",
        "    \"\"\"\n",
        "    if W > 300:\n",
        "        return \"Sunny\"\n",
        "    elif 200 < W <= 300:\n",
        "        return \"Cloudy\"\n",
        "    elif 100 < W <= 200:\n",
        "        return \"Rainy\"\n",
        "    else:\n",
        "        return \"Stormy\"\n",
        "\n",
        "\n",
        "print(\"Weather Prediction System\")\n",
        "\n",
        "\n",
        "t = float(input(\"Enter temperature (°C): \"))\n",
        "h = float(input(\"Enter humidity (%): \"))\n",
        "w = float(input(\"Enter wind speed (m/s): \"))\n",
        "\n",
        "W = calculate_weather(t, h, w)\n",
        "\n",
        "condition = predict_weather_condition(W)\n",
        "\n",
        "\n",
        "print(f\"The calculated weather value (W) is: {W:.2f}\")\n",
        "print(f\"The predicted weather condition is: {condition}\")"
      ],
      "metadata": {
        "colab": {
          "base_uri": "https://localhost:8080/"
        },
        "id": "xmWM13wM6S3a",
        "outputId": "ad775218-adf8-4aa4-fc4f-f02d1b0ec8ed"
      },
      "execution_count": 11,
      "outputs": [
        {
          "output_type": "stream",
          "name": "stdout",
          "text": [
            "Weather Prediction System\n",
            "Enter temperature (°C): 30\n",
            "Enter humidity (%): 40\n",
            "Enter wind speed (m/s): 10\n",
            "The calculated weather value (W) is: 428.00\n",
            "The predicted weather condition is: Sunny\n"
          ]
        }
      ]
    }
  ]
}